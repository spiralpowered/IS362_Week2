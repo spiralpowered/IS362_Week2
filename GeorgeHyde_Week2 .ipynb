{
 "cells": [
  {
   "cell_type": "markdown",
   "id": "60cf88b5",
   "metadata": {},
   "source": [
    "# args and kwargs\n",
    "The basic usage of **args** and **kwargs** I understand. They enable to you to pass arbitrary arguments through functions. In other words, they drastically improve the flexiblity of a function, allowing you to pass any number of arguments without needing to specify."
   ]
  },
  {
   "cell_type": "code",
   "execution_count": 2,
   "id": "47b1f6c7",
   "metadata": {},
   "outputs": [
    {
     "name": "stdout",
     "output_type": "stream",
     "text": [
      "15\n"
     ]
    }
   ],
   "source": [
    "# Example code taken from BroCode on YouTube (https://www.youtube.com/watch?v=Vh__2V2tXUM)\n",
    "\n",
    "# The add function returns the sum of a group of numbers.\n",
    "#Normally, multiple numbers would need to be passed with num1, num2, etc.\n",
    "\n",
    "def add(*args): #By using *args, any amount of numbers can be passed through.  \n",
    "    total = 0\n",
    "    for arg in args: \n",
    "        total += arg\n",
    "    return total\n",
    "\n",
    "print(add(1, 2, 3, 4, 5))"
   ]
  },
  {
   "cell_type": "markdown",
   "id": "5131546d",
   "metadata": {},
   "source": [
    "Notice how **args** handles all 5 arguments passed through without issue. Normally, we would have to specify with num1, num2, etc., or configure the function to take a list of numbers. **kwargs** achieves the same effect, just with keyword arguments."
   ]
  },
  {
   "cell_type": "code",
   "execution_count": 3,
   "id": "24af2b70",
   "metadata": {},
   "outputs": [
    {
     "name": "stdout",
     "output_type": "stream",
     "text": [
      "street: 123 Fake St.\n",
      "city: Detroit\n",
      "state: MI\n",
      "zip_code: 54321\n"
     ]
    }
   ],
   "source": [
    "# Example code taken from BroCode on YouTube (https://www.youtube.com/watch?v=Vh__2V2tXUM)\n",
    "\n",
    "def print_address(**kwargs):\n",
    "    for key, value in kwargs.items():\n",
    "        print(f\"{key}: {value}\")\n",
    "        \n",
    "print_address(street=\"123 Fake St.\",\n",
    "              city=\"Detroit\",\n",
    "              state=\"MI\",\n",
    "              zip_code=\"54321\")"
   ]
  },
  {
   "cell_type": "markdown",
   "id": "d2911d6e",
   "metadata": {},
   "source": [
    "Again, the dictionary and all it's contents are passed through, with me needing to specify the arguments in the function, nor declare the dictionary beforehand."
   ]
  },
  {
   "cell_type": "markdown",
   "id": "c1ab0bf3",
   "metadata": {},
   "source": [
    "The more advanced uses of **args** and **kwargs** are what confuses me, such as those demonstrated in the textbook."
   ]
  },
  {
   "cell_type": "code",
   "execution_count": 9,
   "id": "3873a707",
   "metadata": {},
   "outputs": [
    {
     "name": "stdout",
     "output_type": "stream",
     "text": [
      "6\n"
     ]
    }
   ],
   "source": [
    "def f2(x, y):\n",
    "    return x + y\n",
    "\n",
    "def doubler_correct(f):\n",
    "###works no matter what kind of inputs f expects\"\"\"\n",
    "    def g(*args, **kwargs):\n",
    "###whatever arguments g is supplied, pass them through to f\"\"\"\n",
    "        return 2 * f(*args, **kwargs)\n",
    "    return g\n",
    "g = doubler_correct(f2)\n",
    "print(g(1, 2)) # 6"
   ]
  },
  {
   "cell_type": "markdown",
   "id": "c11ffa27",
   "metadata": {},
   "source": [
    "Yes the code works, but I still don't understand how. The nested functions make the concept hard to figure out."
   ]
  },
  {
   "cell_type": "code",
   "execution_count": null,
   "id": "054c8dda",
   "metadata": {},
   "outputs": [],
   "source": []
  }
 ],
 "metadata": {
  "kernelspec": {
   "display_name": "Python 3",
   "language": "python",
   "name": "python3"
  },
  "language_info": {
   "codemirror_mode": {
    "name": "ipython",
    "version": 3
   },
   "file_extension": ".py",
   "mimetype": "text/x-python",
   "name": "python",
   "nbconvert_exporter": "python",
   "pygments_lexer": "ipython3",
   "version": "3.8.10"
  }
 },
 "nbformat": 4,
 "nbformat_minor": 5
}
